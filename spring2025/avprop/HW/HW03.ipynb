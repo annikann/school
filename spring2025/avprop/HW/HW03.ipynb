{
 "cells": [
  {
   "cell_type": "markdown",
   "metadata": {},
   "source": [
    "# Annika Carlson\n",
    "## AEEM5042 - Module 3 Assignment"
   ]
  },
  {
   "cell_type": "code",
   "execution_count": 1,
   "metadata": {},
   "outputs": [],
   "source": [
    "import numpy as np\n",
    "import matplotlib.pyplot as plt\n",
    "from IPython.display import display, Markdown\n",
    "from scipy.optimize import fsolve"
   ]
  },
  {
   "cell_type": "markdown",
   "metadata": {},
   "source": [
    "### Question 1"
   ]
  },
  {
   "cell_type": "markdown",
   "metadata": {},
   "source": [
    "Start with the given equation for isentropic efficiency of the diffuser: \n",
    "\n",
    "$$\n",
    "\\eta_d = \\frac{\\left(\\frac{P_{t2}}{P_0}\\right)^{\\frac{\\gamma-1}{\\gamma}} - 1}{\\frac{T_{t0}}{T_0} - 1}\n",
    "$$\n",
    "\n",
    "To write the equation in terms of $\\tau_r$ and $\\pi_d$, we can start by plugging in the ram temperature ratio in the denominator:\n",
    "\n",
    "$$\n",
    "\\tau_r = \\frac{T_{t0}}{T_0} \\quad \\Rightarrow \\quad \\eta_d = \\frac{\\left(\\frac{P_{t2}}{P_0}\\right)^{\\frac{\\gamma-1}{\\gamma}} - 1}{\\tau - 1}\n",
    "$$\n",
    "\n",
    "Now, we can break the $\\frac{P_{t2}}{P_0}$ in the numerator down into the product of the ram pressure ratio and diffuser pressure ratio:\n",
    "\n",
    "$$\n",
    "\\pi_r = \\frac{P_{t0}}{P_0}, \\quad \\pi_d = \\frac{P_{t2}}{P_{t0}} \\quad \\Rightarrow \\quad \\frac{P_{t2}}{P_0} = \\pi_d \\cdot \\pi_r\n",
    "$$\n",
    "\n",
    "Plugging this into the equation, we have:\n",
    "\n",
    "$$\n",
    "\\eta_d = \\frac{\\left(\\pi_d\\pi_r\\right)^{\\frac{\\gamma-1}{\\gamma}} - 1}{\\tau_r - 1}\n",
    "$$\n",
    "\n",
    "Now, we need to separate out $\\pi_r$ and relate it back to $\\tau_r$. \n",
    "\n",
    "$$\n",
    "\\tau_r = 1 + \\frac{\\gamma-1}{2}{M_0}^2, \\quad \\pi_r = \\left(1 + \\frac{\\gamma-1}{2}{M_0}^2\\right)^{\\frac{\\gamma}{\\gamma-1}}\n",
    "$$\n",
    "\n",
    "$$\n",
    "\\Rightarrow \\quad \\pi_r = {\\tau_r}^{\\frac{\\gamma}{\\gamma-1}}\n",
    "$$\n",
    "\n",
    "Going back to our equation, we have:\n",
    "\n",
    "$$\n",
    "\\eta_d = \\frac{\\pi_r^{\\frac{\\gamma-1}{\\gamma}}\\pi_d^{\\frac{\\gamma-1}{\\gamma}} - 1}{\\tau_r - 1}\n",
    "$$\n",
    "\n",
    "Rewriting $\\pi_d^{\\frac{\\gamma-1}{\\gamma}}$ in terms of $\\tau_r$, we get:\n",
    "\n",
    "$$\n",
    "\\pi_r^{\\frac{\\gamma-1}{\\gamma}} = ({\\tau_r}^{\\frac{\\gamma}{\\gamma-1}})^{\\frac{\\gamma-1}{\\gamma}} \\quad \\Rightarrow \\quad \\pi_r^{\\frac{\\gamma-1}{\\gamma}} = \\tau_r\n",
    "$$\n",
    "\n",
    "Thus, we can plug $\\tau_r$ back into the equation in that spot to find that the diffuser isentropic efficiency in terms of $\\tau_r$ and $\\pi_d$ is:\n",
    "\n",
    "$$\n",
    "\\eta_d = \\frac{\\tau_r \\pi_d^{\\frac{\\gamma-1}{\\gamma}} - 1}{\\tau_r - 1}\n",
    "$$\n"
   ]
  },
  {
   "cell_type": "markdown",
   "metadata": {},
   "source": [
    "### Question 2"
   ]
  },
  {
   "cell_type": "markdown",
   "metadata": {},
   "source": [
    "Set known/given values:"
   ]
  },
  {
   "cell_type": "code",
   "execution_count": 2,
   "metadata": {},
   "outputs": [],
   "source": [
    "Tt2_1 = 900      # compressor exit total temp limit 1 (K)\n",
    "Tt2_2 = 1300     # compressor exit total temp limit 1 (K)\n",
    "ec = 0.9         # compressor polytropic efficiency\n",
    "y = 1.4          # specific heat ratio"
   ]
  },
  {
   "cell_type": "markdown",
   "metadata": {},
   "source": [
    "Assumptions:\n",
    "\n",
    "Ideal gas, standard day static conditions"
   ]
  },
  {
   "cell_type": "code",
   "execution_count": 3,
   "metadata": {},
   "outputs": [],
   "source": [
    "Tt0 = 288.15     # inlet total temperature (K)"
   ]
  },
  {
   "cell_type": "markdown",
   "metadata": {},
   "source": [
    "Find:\n",
    "\n",
    "Compressor pressure ratio limit for\n",
    "\n",
    "a. Current technology temperature limit, 900 K\n",
    "\n",
    "b. Future technology temperature limit, 1300 K"
   ]
  },
  {
   "cell_type": "markdown",
   "metadata": {},
   "source": [
    "#### a)"
   ]
  },
  {
   "cell_type": "code",
   "execution_count": 4,
   "metadata": {},
   "outputs": [
    {
     "data": {
      "text/markdown": [
       "$\\pi_c$ = $36.15$"
      ],
      "text/plain": [
       "<IPython.core.display.Markdown object>"
      ]
     },
     "metadata": {},
     "output_type": "display_data"
    }
   ],
   "source": [
    "## Calculate compressor temperature ratio, tau_c\n",
    "tau_c = Tt2_1/Tt0\n",
    "\n",
    "## Solve temp and pressure ratio relation for pi_c\n",
    "pi_c = tau_c**(1/((y - 1)/(y*ec)))\n",
    "display(Markdown(f\"$\\pi_c$ = ${pi_c:.2f}$\"))"
   ]
  },
  {
   "cell_type": "markdown",
   "metadata": {},
   "source": [
    "#### b)"
   ]
  },
  {
   "cell_type": "code",
   "execution_count": 5,
   "metadata": {},
   "outputs": [
    {
     "data": {
      "text/markdown": [
       "$\\pi_c$ = $115.11$"
      ],
      "text/plain": [
       "<IPython.core.display.Markdown object>"
      ]
     },
     "metadata": {},
     "output_type": "display_data"
    }
   ],
   "source": [
    "## Calculate compressor temperature ratio, tau_c\n",
    "tau_c = Tt2_2/Tt0\n",
    "\n",
    "## Solve temp and pressure ratio relation for pi_c\n",
    "pi_c = tau_c**(1/((y - 1)/(y*ec)))\n",
    "display(Markdown(f\"$\\pi_c$ = ${pi_c:.2f}$\"))"
   ]
  },
  {
   "cell_type": "markdown",
   "metadata": {},
   "source": [
    "### Question 3"
   ]
  },
  {
   "cell_type": "markdown",
   "metadata": {},
   "source": [
    "Set known/given values:"
   ]
  },
  {
   "cell_type": "code",
   "execution_count": 6,
   "metadata": {},
   "outputs": [],
   "source": [
    "## PW-F100 Data from the given table:\n",
    "# Pressure values (psia)\n",
    "Pt2 = 14.7\n",
    "Pt2_5 = 47.5\n",
    "Pt13 = 47.5\n",
    "Pt3 = 387.7\n",
    "Pt4 = 350.5\n",
    "Pt5 = 44.8\n",
    "Pt16 = 42.1\n",
    "Pt6A = 43.7\n",
    "Pt7 = 39.5\n",
    "\n",
    "# Temperature values (°R)\n",
    "Tt2 = 518.67\n",
    "Tt2_5 = 766.67\n",
    "Tt13 = 766.67\n",
    "Tt3 = 1459.67\n",
    "Tt4 = 2739       # 3089 in table, assuming 2739 per problem statement\n",
    "Tt5 = 1821.67\n",
    "Tt16 = 790.67\n",
    "Tt6A = 1448.67\n",
    "Tt7 = 3626.67\n",
    "\n",
    "# Other parameters\n",
    "a = 0.63        # bypass ratio\n",
    "F = 23770       # thrust (lbf)   \n",
    "mdot = 228      # airflow (lbm/s)"
   ]
  },
  {
   "cell_type": "markdown",
   "metadata": {},
   "source": [
    "Assumptions:"
   ]
  },
  {
   "cell_type": "code",
   "execution_count": 7,
   "metadata": {},
   "outputs": [],
   "source": [
    "yc = 1.4        # cold section specific heat ratio\n",
    "yt = 1.3        # hot section specific heat ratio\n",
    "cp = 0.24       # specific heat (BTU/lbm*r)"
   ]
  },
  {
   "cell_type": "markdown",
   "metadata": {},
   "source": [
    "Find:\n",
    "\n",
    "a. Polytropic efficiencies of the fan and compressor\n",
    "\n",
    "b. Combined polytropic efficiencies of the low and high pressure turbines\n",
    "\n",
    "c. Power required by the fan and high pressure compressor"
   ]
  },
  {
   "cell_type": "markdown",
   "metadata": {},
   "source": [
    "#### a)"
   ]
  },
  {
   "cell_type": "code",
   "execution_count": 8,
   "metadata": {},
   "outputs": [
    {
     "data": {
      "text/markdown": [
       "$e_f$ = $0.8575$"
      ],
      "text/plain": [
       "<IPython.core.display.Markdown object>"
      ]
     },
     "metadata": {},
     "output_type": "display_data"
    },
    {
     "data": {
      "text/markdown": [
       "$e_c$ = $0.9316$"
      ],
      "text/plain": [
       "<IPython.core.display.Markdown object>"
      ]
     },
     "metadata": {},
     "output_type": "display_data"
    }
   ],
   "source": [
    "## Calculate fan and compressor polytropic efficiencies using temperature and pressure ratios\n",
    "\n",
    "# Calculate tau_f, pi_f, tau_c, and pi_c\n",
    "tau_f = Tt13/Tt2\n",
    "pi_f = Pt13/Pt2\n",
    "tau_c = Tt3/Tt2_5\n",
    "pi_c = Pt3/Pt2_5\n",
    "\n",
    "# Solve for ef and ec\n",
    "ef = ((yc - 1)/yc)*((np.log(pi_f))/(np.log(tau_f)))\n",
    "ec = ((yc - 1)/yc)*((np.log(pi_c))/(np.log(tau_c)))\n",
    "\n",
    "display(Markdown(f\"$e_f$ = ${ef:.4f}$\"))\n",
    "display(Markdown(f\"$e_c$ = ${ec:.4f}$\"))"
   ]
  },
  {
   "cell_type": "markdown",
   "metadata": {},
   "source": [
    "#### b)"
   ]
  },
  {
   "cell_type": "code",
   "execution_count": 9,
   "metadata": {},
   "outputs": [
    {
     "data": {
      "text/markdown": [
       "$e_t$ = $0.8591$"
      ],
      "text/plain": [
       "<IPython.core.display.Markdown object>"
      ]
     },
     "metadata": {},
     "output_type": "display_data"
    }
   ],
   "source": [
    "## Calculate turbine polytropic efficiencies using temperature and pressure ratios\n",
    "\n",
    "# Calculate tau_t and pi_t\n",
    "tau_t = Tt5/Tt4\n",
    "pi_t = Pt5/Pt4\n",
    "\n",
    "# Solve for ef and ec\n",
    "et = (yt/(yt -1))*((np.log(tau_t))/(np.log(pi_t)))\n",
    "\n",
    "display(Markdown(f\"$e_t$ = ${et:.4f}$\"))"
   ]
  },
  {
   "cell_type": "markdown",
   "metadata": {},
   "source": [
    "#### c)"
   ]
  },
  {
   "cell_type": "code",
   "execution_count": 10,
   "metadata": {},
   "outputs": [
    {
     "data": {
      "text/markdown": [
       "$\\dot{W}_f$ = $13570.56$ $BTU/s$"
      ],
      "text/plain": [
       "<IPython.core.display.Markdown object>"
      ]
     },
     "metadata": {},
     "output_type": "display_data"
    },
    {
     "data": {
      "text/markdown": [
       "$\\dot{W}_c$ = $23264.39$ $BTU/s$"
      ],
      "text/plain": [
       "<IPython.core.display.Markdown object>"
      ]
     },
     "metadata": {},
     "output_type": "display_data"
    }
   ],
   "source": [
    "## Determine work required to drive the fan and compressor\n",
    "\n",
    "Wf = mdot*cp*(Tt13 - Tt2)\n",
    "Wc = (mdot/(1 + a))*cp*(Tt3 - Tt2_5)\n",
    "\n",
    "display(Markdown(f\"$\\\\dot{{W}}_f$ = ${Wf:.2f}$ $BTU/s$\"))\n",
    "display(Markdown(f\"$\\\\dot{{W}}_c$ = ${Wc:.2f}$ $BTU/s$\"))"
   ]
  }
 ],
 "metadata": {
  "kernelspec": {
   "display_name": "base",
   "language": "python",
   "name": "python3"
  },
  "language_info": {
   "codemirror_mode": {
    "name": "ipython",
    "version": 3
   },
   "file_extension": ".py",
   "mimetype": "text/x-python",
   "name": "python",
   "nbconvert_exporter": "python",
   "pygments_lexer": "ipython3",
   "version": "3.9.13"
  }
 },
 "nbformat": 4,
 "nbformat_minor": 2
}
