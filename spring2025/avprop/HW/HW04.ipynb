{
 "cells": [
  {
   "cell_type": "markdown",
   "metadata": {},
   "source": [
    "# Annika Carlson\n",
    "## AEEM5042 - Module 4 Assignment"
   ]
  },
  {
   "cell_type": "code",
   "execution_count": 1,
   "metadata": {},
   "outputs": [],
   "source": [
    "import numpy as np\n",
    "import sys, os\n",
    "sys.path.append(os.getcwd() + r\"/..\")\n",
    "from IPython.display import display, Markdown, Math\n",
    "from scipy.optimize import fsolve\n",
    "from utils.tbm import shockRelation\n",
    "from Project0.compflow import compflow"
   ]
  },
  {
   "cell_type": "markdown",
   "metadata": {},
   "source": [
    "### Question 1"
   ]
  },
  {
   "cell_type": "markdown",
   "metadata": {},
   "source": [
    "Set given/known values:"
   ]
  },
  {
   "cell_type": "code",
   "execution_count": 2,
   "metadata": {},
   "outputs": [],
   "source": [
    "M0 = 0.8        # freestream mach number\n",
    "A0_A1 = 0.92    # capture to highlight area ratio"
   ]
  },
  {
   "cell_type": "markdown",
   "metadata": {},
   "source": [
    "Initial Assumptions:"
   ]
  },
  {
   "cell_type": "code",
   "execution_count": 3,
   "metadata": {},
   "outputs": [],
   "source": [
    "y = 1.4        # specific heat ratio, cold"
   ]
  },
  {
   "cell_type": "markdown",
   "metadata": {},
   "source": [
    "Additional assumptions are made later on."
   ]
  },
  {
   "cell_type": "markdown",
   "metadata": {},
   "source": [
    "Find:\n",
    "\n",
    "a) Pressure coefficient, $C_p$, at the stagnation point\n",
    "\n",
    "b) Inlet Mach number, $M_1$\n",
    "\n",
    "c) Lip contraction ratio, $A_1/A_{th}$, for a throat Mach $M_{th}$ = 0.75, assuming $p_t/p_{t,th}$ = 1\n",
    "\n",
    "d) Diffuser area ratio, $A_2/A_{th}$ if $M_2$ = 0.5 and $p_t/p_{t,th}$ = 0.98\n",
    "\n",
    "e) The non-dimensional inlet additive drag, $D_{add}/\\left( p_0 \\cdot A_1 \\right)$"
   ]
  },
  {
   "cell_type": "markdown",
   "metadata": {},
   "source": [
    "#### a)"
   ]
  },
  {
   "cell_type": "markdown",
   "metadata": {},
   "source": [
    "Start by getting the equation for pressure coefficient, $C_p$, in terms of freestream mach number using pressure isentropic relations.\n",
    "\n",
    "$$\n",
    "C_p = \\frac{2\\left(P_{t0} - P_0\\right)}{\\gamma \\cdot P_0 \\cdot M_0^2}\n",
    "$$\n",
    "\n",
    "where $P_{t0}$ is freestream total pressure, and $P_0$ is freestream static pressure. From isentropic relations:\n",
    "\n",
    "$$\n",
    "\\frac{P_{t0}}{P_0} = \\left(1 + \\frac{\\gamma - 1}{2}*M_0^2\\right)^{\\frac{\\gamma}{\\gamma - 1}} \\Rightarrow P_{t0} = P_0 \\left(1 + \\frac{\\gamma - 1}{2}*M_0^2\\right)^{\\frac{\\gamma}{\\gamma - 1}}\n",
    "$$\n",
    "\n",
    "Plugging this into the $C_p$ equation for $P_{t0}$ and simplifying, we get:\n",
    "\n",
    "$$\n",
    "C_p = \\frac{2\\left[P_0 \\left(1 + \\frac{\\gamma - 1}{2}*M_0^2\\right)^{\\frac{\\gamma}{\\gamma - 1}} - P_0\\right]}{\\gamma \\cdot P_0 \\cdot M_0^2} = \\frac{2 \\cdot P_0\\left[\\left(1 + \\frac{\\gamma - 1}{2}*M_0^2\\right)^{\\frac{\\gamma}{\\gamma - 1}} - 1\\right]}{\\gamma \\cdot P_0 \\cdot M_0^2}\n",
    "$$\n",
    "\n",
    "$$\n",
    "\\Rightarrow C_p = \\frac{2 \\left[\\left(1 + \\frac{\\gamma - 1}{2}*M_0^2\\right)^{\\frac{\\gamma}{\\gamma - 1}} - 1\\right]}{\\gamma \\cdot M_0^2} \n",
    "$$\n",
    "\n",
    "This leaves us $C_p$ in terms of $\\gamma$ and $M_0$, which we can now solve."
   ]
  },
  {
   "cell_type": "code",
   "execution_count": 4,
   "metadata": {},
   "outputs": [
    {
     "data": {
      "text/latex": [
       "$\\displaystyle \\boxed{ C_p = 1.17 }$"
      ],
      "text/plain": [
       "<IPython.core.display.Math object>"
      ]
     },
     "metadata": {},
     "output_type": "display_data"
    }
   ],
   "source": [
    "Cp = (2*((1 + ((y - 1)/2)*(M0**2))**(y/(y - 1)) - 1))/(y*(M0**2))\n",
    "display(Math(r\"\\boxed{ C_p = %.2f }\" % Cp))"
   ]
  },
  {
   "cell_type": "markdown",
   "metadata": {},
   "source": [
    "#### b)"
   ]
  },
  {
   "cell_type": "markdown",
   "metadata": {},
   "source": [
    "To find inlet Mach number, $M_1$, we can simply use the area ratio $A_0/A_1$ and $M_0$."
   ]
  },
  {
   "cell_type": "code",
   "execution_count": 5,
   "metadata": {},
   "outputs": [
    {
     "data": {
      "text/latex": [
       "$\\displaystyle \\boxed{ M_1 = 0.66 }$"
      ],
      "text/plain": [
       "<IPython.core.display.Math object>"
      ]
     },
     "metadata": {},
     "output_type": "display_data"
    }
   ],
   "source": [
    "# Use fsolve to solve the area ratio equation for M1\n",
    "def equation(M1):\n",
    "    return (M1/M0)*((1 + ((y - 1)/2)*M0**2)/(1 + ((y - 1)/2)*M1**2))**((y + 1) / (2 * (y - 1))) - A0_A1\n",
    "\n",
    "M1_guess = 0.5\n",
    "M1 = fsolve(equation, M1_guess)[0]\n",
    "display(Math(r\"\\boxed{ M_1 = %.2f }\" % M1))"
   ]
  },
  {
   "cell_type": "markdown",
   "metadata": {},
   "source": [
    "#### c)"
   ]
  },
  {
   "cell_type": "markdown",
   "metadata": {},
   "source": [
    "To solve for lip contraction ratio, we use the area relation with $M_1$ and $M_{th}$.\n",
    "\n",
    "Assume:\n",
    "\n",
    "$M_{th}$ = 0.75\n",
    "\n",
    "$P_{t1}/P_{t,th}$ = 1"
   ]
  },
  {
   "cell_type": "code",
   "execution_count": 6,
   "metadata": {},
   "outputs": [
    {
     "data": {
      "text/latex": [
       "$\\displaystyle \\boxed{ A_1/A_{th} = 1.06 }$"
      ],
      "text/plain": [
       "<IPython.core.display.Math object>"
      ]
     },
     "metadata": {},
     "output_type": "display_data"
    }
   ],
   "source": [
    "Mth = 0.75          # throat Mach number\n",
    "Pt1_Ptth = 1        # inlet to throat total pressure ratio\n",
    "\n",
    "A1_Ath = (1/Pt1_Ptth)*(Mth/M1)*((1 + ((y - 1)/2)*M1**2)/(1 + ((y - 1)/2)*Mth**2))**((y + 1)/(2*(y - 1)))\n",
    "display(Math(r\"\\boxed{ A_1/A_{th} = %.2f }\" % A1_Ath))"
   ]
  },
  {
   "cell_type": "markdown",
   "metadata": {},
   "source": [
    "#### d)"
   ]
  },
  {
   "cell_type": "markdown",
   "metadata": {},
   "source": [
    "To solve for diffuser area ratio, we again use the area relation equation but with $M_2$ and $M_{th}$.\n",
    "\n",
    "Assume:\n",
    "\n",
    "$M_2$ = 0.5\n",
    "\n",
    "$P_{t2}/P_{t,th}$ = 0.98"
   ]
  },
  {
   "cell_type": "code",
   "execution_count": 7,
   "metadata": {},
   "outputs": [
    {
     "data": {
      "text/latex": [
       "$\\displaystyle \\boxed{ A_2/A_{th} = 1.29 }$"
      ],
      "text/plain": [
       "<IPython.core.display.Math object>"
      ]
     },
     "metadata": {},
     "output_type": "display_data"
    }
   ],
   "source": [
    "M2 = 0.5            # engine fan face Mach number\n",
    "Pt2_Ptth = 0.98     # throat to engine fan face total pressure ratio\n",
    "\n",
    "A2_Ath = (1/Pt2_Ptth)*(Mth/M2)*((1 + ((y - 1)/2)*M2**2)/(1 + ((y - 1)/2)*Mth**2))**((y + 1)/(2*(y - 1)))\n",
    "display(Math(r\"\\boxed{ A_2/A_{th} = %.2f }\" % A2_Ath))"
   ]
  },
  {
   "cell_type": "markdown",
   "metadata": {},
   "source": [
    "#### e)"
   ]
  },
  {
   "cell_type": "markdown",
   "metadata": {},
   "source": [
    "Now find nondimensional inlet additive drag using the equation with $M_0$, $M_1$, and $\\gamma$."
   ]
  },
  {
   "cell_type": "code",
   "execution_count": 8,
   "metadata": {},
   "outputs": [
    {
     "data": {
      "text/latex": [
       "$\\displaystyle \\boxed{ D_{add}/p_0A_1 = -0.09 }$"
      ],
      "text/plain": [
       "<IPython.core.display.Math object>"
      ]
     },
     "metadata": {},
     "output_type": "display_data"
    }
   ],
   "source": [
    "Dadd_p0A1 = y*M0*(((1 + ((y - 1)/2)*(M0**2))/(1 + ((y - 1)/2)*(M1**2)))**(y/(2*(y - 1))))*((M1/M0)* \\\n",
    "        ((1 + ((y - 1)/2)*(M1**2))/(1 + ((y - 1)/2)*(M0**2)))**0.5 - 1) + \\\n",
    "        ((1 + ((y - 1)/2)*(M0**2))/(1 + ((y - 1)/2)*(M1**2)))**(y/(y - 1)) - 1\n",
    "\n",
    "display(Math(r\"\\boxed{ D_{add}/p_0A_1 = %.2f }\" % Dadd_p0A1))"
   ]
  },
  {
   "cell_type": "markdown",
   "metadata": {},
   "source": [
    "### Question 2"
   ]
  },
  {
   "cell_type": "markdown",
   "metadata": {},
   "source": [
    "Set given/known values:"
   ]
  },
  {
   "cell_type": "code",
   "execution_count": 9,
   "metadata": {},
   "outputs": [],
   "source": [
    "M0 = 0.2            # freestream Mach number \n",
    "M2 = 0.65           # fan face Mach number\n",
    "Pt2_Pt0 = 0.98      # inlet total pressure recovery"
   ]
  },
  {
   "cell_type": "markdown",
   "metadata": {},
   "source": [
    "Assumptions:"
   ]
  },
  {
   "cell_type": "code",
   "execution_count": 10,
   "metadata": {},
   "outputs": [],
   "source": [
    "y = 1.4         # specific heat ratio, cold"
   ]
  },
  {
   "cell_type": "markdown",
   "metadata": {},
   "source": [
    "Find:\n",
    "\n",
    "Capture-to-engine face area ratio, $A_0/A_2$"
   ]
  },
  {
   "cell_type": "code",
   "execution_count": 11,
   "metadata": {},
   "outputs": [
    {
     "data": {
      "text/latex": [
       "$\\displaystyle \\boxed{ A_0/A_2 = 2.56 }$"
      ],
      "text/plain": [
       "<IPython.core.display.Math object>"
      ]
     },
     "metadata": {},
     "output_type": "display_data"
    }
   ],
   "source": [
    "# solve the area ratio using Pt2/Pt0, M0 and M2\n",
    "\n",
    "A0_A2 = Pt2_Pt0*(M2/M0)*((1 + ((y - 1)/2)*M0**2)/(1 + ((y - 1)/2)*M2**2))**((y + 1)/(2*(y - 1)))\n",
    "display(Math(r\"\\boxed{ A_0/A_2 = %.2f }\" % A0_A2))"
   ]
  },
  {
   "cell_type": "markdown",
   "metadata": {},
   "source": [
    "### Question 3"
   ]
  },
  {
   "cell_type": "markdown",
   "metadata": {},
   "source": [
    "Set given/known values:"
   ]
  },
  {
   "cell_type": "code",
   "execution_count": 12,
   "metadata": {},
   "outputs": [],
   "source": [
    "M0 = 1.6            # flight Mach number\n",
    "A0_A1 = 0.90        # inlet capture area ratio\n",
    "A2_A1 = 1.2         # diffuser area ratio\n",
    "Pt2_Pt1 = 0.95      # engine face to inlet total pressure loss"
   ]
  },
  {
   "cell_type": "markdown",
   "metadata": {},
   "source": [
    "Assumptions:\n",
    "\n",
    "$A_0$ is constant until the shock."
   ]
  },
  {
   "cell_type": "code",
   "execution_count": 13,
   "metadata": {},
   "outputs": [],
   "source": [
    "y = 1.4"
   ]
  },
  {
   "cell_type": "markdown",
   "metadata": {},
   "source": [
    "Find:\n",
    "\n",
    "a) Inlet Mach number, $M_1$\n",
    "\n",
    "b) Inlet total pressure recovery, $\\pi_d = P_{t2}/P_{t0}$"
   ]
  },
  {
   "cell_type": "markdown",
   "metadata": {},
   "source": [
    "#### a)"
   ]
  },
  {
   "cell_type": "markdown",
   "metadata": {},
   "source": [
    "From normal shock tables, we can find mach number after the normal shock given that $M_0 = M_x = 1.6$.\n",
    "\n",
    "From the shock tables, $M_y = 0.67$"
   ]
  },
  {
   "cell_type": "markdown",
   "metadata": {},
   "source": [
    "Now we can use the inlet capture area ratio to find $M_1$, now using $M_y$ in place of $M_0$."
   ]
  },
  {
   "cell_type": "code",
   "execution_count": 14,
   "metadata": {},
   "outputs": [
    {
     "data": {
      "text/latex": [
       "$\\displaystyle \\boxed{ M_1 = 0.56 }$"
      ],
      "text/plain": [
       "<IPython.core.display.Math object>"
      ]
     },
     "metadata": {},
     "output_type": "display_data"
    }
   ],
   "source": [
    "M0y = 0.67\n",
    "\n",
    "# Use fsolve to solve the area ratio equation for M1\n",
    "def equation(M1):\n",
    "    return (M1/M0y)*((1 + ((y - 1)/2)*M0y**2)/(1 + ((y - 1)/2)*M1**2))**((y + 1) / (2 * (y - 1))) - A0_A1\n",
    "\n",
    "M1_guess = 0.67\n",
    "M1 = fsolve(equation, M1_guess)[0]\n",
    "display(Math(r\"\\boxed{ M_1 = %.2f }\" % M1))"
   ]
  },
  {
   "cell_type": "markdown",
   "metadata": {},
   "source": [
    "#### b)"
   ]
  },
  {
   "cell_type": "markdown",
   "metadata": {},
   "source": [
    "In order to find $\\pi_d$, we can use $P_{t2}/P_{t1}$ and $P_{t1}/P_{t0}$ to find $P_{t2}/P_{t0}$.\n",
    "\n",
    "We know that $P_{t1}/P_{t0}$ is the same as the pressure ratio across the shock, $P_y/P_x$, which can be found from the shock tables for $M_0$ = 1.6.\n",
    "\n",
    "From the tables, $P_y/P_x$ = 0.8952\n",
    "\n",
    "Now, we find simply that $\\pi_d = \\frac{P_{t2}}{P_{t0}} = \\frac{P_{t2}}{P_{t1}} \\cdot \\frac{P_{t1}}{P_{t0}}$"
   ]
  },
  {
   "cell_type": "code",
   "execution_count": 15,
   "metadata": {},
   "outputs": [
    {
     "data": {
      "text/latex": [
       "$\\displaystyle \\boxed{ \\pi_d = 0.85 }$"
      ],
      "text/plain": [
       "<IPython.core.display.Math object>"
      ]
     },
     "metadata": {},
     "output_type": "display_data"
    }
   ],
   "source": [
    "Pty_Ptx = 0.8952\n",
    "\n",
    "Pt2_Pt0 = Pt2_Pt1*Pty_Ptx\n",
    "display(Math(r\"\\boxed{ \\pi_d = %.2f }\" % Pt2_Pt0))"
   ]
  },
  {
   "cell_type": "markdown",
   "metadata": {},
   "source": [
    "### Question 4"
   ]
  },
  {
   "cell_type": "markdown",
   "metadata": {},
   "source": [
    "Set given/known values:"
   ]
  },
  {
   "cell_type": "code",
   "execution_count": 16,
   "metadata": {},
   "outputs": [],
   "source": [
    "M0 = 2.5            # freestream Mach number\n",
    "theta1 = 8.0        # first ramp angle\n",
    "theta2 = 12.0       # second ramp angle"
   ]
  },
  {
   "cell_type": "markdown",
   "metadata": {},
   "source": [
    "Assumptions:"
   ]
  },
  {
   "cell_type": "code",
   "execution_count": 17,
   "metadata": {},
   "outputs": [],
   "source": [
    "y = 1.4     # specific heat ratio, cold"
   ]
  },
  {
   "cell_type": "markdown",
   "metadata": {},
   "source": [
    "Find:\n",
    "\n",
    "a) Total pressure recovery of the inlet shock system, $\\pi_d$\n",
    "\n",
    "b) Compare the total pressure recovery to a normal shock (only) inlet at the same Mach number"
   ]
  },
  {
   "cell_type": "markdown",
   "metadata": {},
   "source": [
    "#### a)"
   ]
  },
  {
   "cell_type": "markdown",
   "metadata": {},
   "source": [
    "Start by finding the shock angle, $\\beta_1$, for the first oblique shock using the theta-beta-Mach relation. Then we can find the normal component of the freestream Mach number."
   ]
  },
  {
   "cell_type": "code",
   "execution_count": 18,
   "metadata": {},
   "outputs": [
    {
     "data": {
      "text/markdown": [
       "normal freestream mach number, $M_{0n}$ = $1.25$"
      ],
      "text/plain": [
       "<IPython.core.display.Markdown object>"
      ]
     },
     "metadata": {},
     "output_type": "display_data"
    }
   ],
   "source": [
    "B1 = shockRelation(M=M0, theta=theta1, y=y)\n",
    "M0n = M0*np.sin(np.deg2rad(B1))\n",
    "display(Markdown(f\"normal freestream mach number, $M_{{0n}}$ = ${M0n:.2f}$\"))"
   ]
  },
  {
   "cell_type": "markdown",
   "metadata": {},
   "source": [
    "Now we can use the normal component, $M_{0n}$, and solve as a normal shock to get $M_{1n}$ and $P_{t1}/P_{t0}$ for the first oblique shock from the normal shock tables.\n",
    "\n",
    "From the normal shock tables: $M_{1n} = 0.81$,  $P_{t1}/P_{t0} = 0.987057$"
   ]
  },
  {
   "cell_type": "markdown",
   "metadata": {},
   "source": [
    "Now solve for M1, the actual Mach number after the first oblique shock."
   ]
  },
  {
   "cell_type": "code",
   "execution_count": 19,
   "metadata": {},
   "outputs": [
    {
     "data": {
      "text/markdown": [
       "mach number after shock 1, $M_1$ = $2.16$"
      ],
      "text/plain": [
       "<IPython.core.display.Markdown object>"
      ]
     },
     "metadata": {},
     "output_type": "display_data"
    }
   ],
   "source": [
    "M1n = 0.81\n",
    "Pt1_Pt0 = 0.987057\n",
    "\n",
    "M1 = M1n/np.sin(np.deg2rad(B1) - np.deg2rad(theta1))\n",
    "display(Markdown(f\"mach number after shock 1, $M_1$ = ${M1:.2f}$\"))"
   ]
  },
  {
   "cell_type": "markdown",
   "metadata": {},
   "source": [
    "Now, we can solve across the second oblique shock the same way."
   ]
  },
  {
   "cell_type": "code",
   "execution_count": 20,
   "metadata": {},
   "outputs": [
    {
     "data": {
      "text/markdown": [
       "normal mach number after shock 1, $M_{1n}$ = $1.35$"
      ],
      "text/plain": [
       "<IPython.core.display.Markdown object>"
      ]
     },
     "metadata": {},
     "output_type": "display_data"
    }
   ],
   "source": [
    "B2 = shockRelation(M=M1, theta=theta2, y=y)\n",
    "M1n = M1*np.sin(np.deg2rad(B2))\n",
    "display(Markdown(f\"normal mach number after shock 1, $M_{{1n}}$ = ${M1n:.2f}$\"))"
   ]
  },
  {
   "cell_type": "markdown",
   "metadata": {},
   "source": [
    "From the normal shock tables: $M_{2n} = 0.76$,  $P_{t2}/P_{t1} = 0.969737$"
   ]
  },
  {
   "cell_type": "code",
   "execution_count": 21,
   "metadata": {},
   "outputs": [
    {
     "data": {
      "text/markdown": [
       "mach number after shock 2, $M_2$ = $1.70$"
      ],
      "text/plain": [
       "<IPython.core.display.Markdown object>"
      ]
     },
     "metadata": {},
     "output_type": "display_data"
    }
   ],
   "source": [
    "M2n = 0.76\n",
    "Pt2_Pt1 = 0.969737\n",
    "\n",
    "M2 = M2n/np.sin(np.deg2rad(B2) - np.deg2rad(theta2))\n",
    "display(Markdown(f\"mach number after shock 2, $M_2$ = ${M2:.2f}$\"))"
   ]
  },
  {
   "cell_type": "markdown",
   "metadata": {},
   "source": [
    "Now solve across the final normal shock.\n",
    "\n",
    "From the normal shock tables: $M_3 = 0.64$,  $P_{t3}/P_{t2} = 0.855721$"
   ]
  },
  {
   "cell_type": "markdown",
   "metadata": {},
   "source": [
    "Lastly, solve for total pressure recovery of the system, $P_{t3}/P_{t0}$"
   ]
  },
  {
   "cell_type": "code",
   "execution_count": 22,
   "metadata": {},
   "outputs": [
    {
     "data": {
      "text/latex": [
       "$\\displaystyle \\boxed{ \\pi_d = 0.82 }$"
      ],
      "text/plain": [
       "<IPython.core.display.Math object>"
      ]
     },
     "metadata": {},
     "output_type": "display_data"
    }
   ],
   "source": [
    "Pt3_Pt2 = 0.855721\n",
    "Pt3_Pt0 = Pt1_Pt0*Pt2_Pt1*Pt3_Pt2\n",
    "display(Math(r\"\\boxed{ \\pi_d = %.2f }\" % Pt3_Pt0))"
   ]
  },
  {
   "cell_type": "markdown",
   "metadata": {},
   "source": [
    "#### b)"
   ]
  },
  {
   "cell_type": "markdown",
   "metadata": {},
   "source": [
    "If the inlet only had one normal shock, we would just solve for the pressure recovery using the freestream Mach number, $M_0 = 2.5$, across a normal shock.\n",
    "\n",
    "From the normal shock tables: $M_1 = 0.51$,  $P_{ty}/P_{tx} = 0.499015$\n",
    "\n",
    "Thus, $\\pi_d = 0.50$.\n",
    "\n",
    "This means that with a single normal shock at the inlet, there would be about a 50% pressure loss from the freestream to the fan face of the engine, compared to only about an 18% loss with the configuration of oblique and normal shocks shown for the same Mach number."
   ]
  },
  {
   "cell_type": "markdown",
   "metadata": {},
   "source": [
    "### Question 5"
   ]
  },
  {
   "cell_type": "markdown",
   "metadata": {},
   "source": [
    "Set given/known values:"
   ]
  },
  {
   "cell_type": "code",
   "execution_count": 23,
   "metadata": {},
   "outputs": [],
   "source": [
    "Ae_Ath = 2.4    # exit to throat area ratio\n",
    "Pt = 100       # nozzle inlet pressure (kPa)"
   ]
  },
  {
   "cell_type": "markdown",
   "metadata": {},
   "source": [
    "Assumptions:\n",
    "\n",
    "The nozzle is choked at the throat $\\left(M_{th} = 1\\right)$, and isentropic until the shock."
   ]
  },
  {
   "cell_type": "code",
   "execution_count": 24,
   "metadata": {},
   "outputs": [],
   "source": [
    "y = 1.33       # specific heat ratio, hot"
   ]
  },
  {
   "cell_type": "markdown",
   "metadata": {},
   "source": [
    "Find:\n",
    "\n",
    "a) Ambient pressure, $P_0$ $\\:$ Note: $\\left(P_0 = P_y\\right)$\n",
    "\n",
    "b) Exhaust temperature, $T_y$\n",
    "\n",
    "c) Mass flow rate through the nozzle"
   ]
  },
  {
   "cell_type": "markdown",
   "metadata": {},
   "source": [
    "#### a)"
   ]
  },
  {
   "cell_type": "markdown",
   "metadata": {},
   "source": [
    "Since we are assuming the nozzle is choked, we can use $A_e/A_{th} = A/A* = 2.4$ to look at the compressible flow tables for $\\gamma = 1.33$ to find the supersonic solution for Mach number at the exit as well as the pressure ratio $P_e/P_{te}$.\n",
    "\n",
    "From the compressible flow tables: $M_e = 2.34$,  $P_e/P_{te} = 0.074704$\n",
    "\n",
    "And then we can solve for the ambient pressure, $P_0$, by first finding the pressure at the exit before the shock, $P_e$."
   ]
  },
  {
   "cell_type": "code",
   "execution_count": 25,
   "metadata": {},
   "outputs": [
    {
     "data": {
      "text/markdown": [
       "Pressure at the exit, $P_e$ = $P_x$ = $7.47$ $kPa$"
      ],
      "text/plain": [
       "<IPython.core.display.Markdown object>"
      ]
     },
     "metadata": {},
     "output_type": "display_data"
    }
   ],
   "source": [
    "Pe_Pet = 0.074704\n",
    "Pe = Pe_Pet*Pt\n",
    "display(Markdown(f\"Pressure at the exit, $P_e$ = $P_x$ = ${Pe:.2f}$ $kPa$\"))"
   ]
  },
  {
   "cell_type": "markdown",
   "metadata": {},
   "source": [
    "Now we can solve for the pressure across the shock at the exit using the normal shock tables for $M_x = M_e = 2.34$.\n",
    "\n",
    "From the normal shock tables: $M_y = 0.52$,  $P_y/P_x = 6.109483$\n",
    "\n",
    "And now we can use the pressure ratio across the shock to find $P_y$, which is $P_0$."
   ]
  },
  {
   "cell_type": "code",
   "execution_count": 26,
   "metadata": {},
   "outputs": [
    {
     "data": {
      "text/latex": [
       "$\\displaystyle \\boxed{ P_0 = 45.64 \\; kPa}$"
      ],
      "text/plain": [
       "<IPython.core.display.Math object>"
      ]
     },
     "metadata": {},
     "output_type": "display_data"
    }
   ],
   "source": [
    "P0_Pe = 6.109483\n",
    "P0 = Pe*P0_Pe\n",
    "display(Math(r\"\\boxed{ P_0 = %.2f \\; kPa}\" % P0))"
   ]
  },
  {
   "cell_type": "markdown",
   "metadata": {},
   "source": [
    "#### b)"
   ]
  },
  {
   "cell_type": "markdown",
   "metadata": {},
   "source": [
    "Assume:\n",
    "\n",
    "Since the nozzle is isentropic until the shock, the total temperature will be constant from the throat until right before the shock. Thus, can use the compressible flow tables for $\\gamma = 1.33$ at $M_{th} = 1$ to find the total temperature throughout the nozzle:\n",
    "\n",
    "From the compressible flow tables: $T/T_t = 0.858369$"
   ]
  },
  {
   "cell_type": "code",
   "execution_count": 27,
   "metadata": {},
   "outputs": [],
   "source": [
    "Tth = 350 + 273.15       # throat static temperature (K)\n",
    "Tth_Ttth = 0.858369      # static to total temperature ratio at the throat\n",
    "Ttth = Tth/Tth_Ttth      # throat total temperature (K)\n",
    "Ttx = Ttth               # total temperature before the shock (K)"
   ]
  },
  {
   "cell_type": "markdown",
   "metadata": {},
   "source": [
    "To find the exhaust temperature after the shock, $T_y$, we can start with using the compressible flow tables for $\\gamma = 1.33$ at the Mach number before the shock, $M_e = M_x$.\n",
    "\n",
    "From the compressible flow tables: $T_x/T_{tx} = 0.525355$\n",
    "\n",
    "And from the normal shock tables for across the shock: $T_y/T_x = 1.823030$\n",
    "\n",
    "These can now both be used to solve for $T_y$."
   ]
  },
  {
   "cell_type": "code",
   "execution_count": 28,
   "metadata": {},
   "outputs": [
    {
     "data": {
      "text/latex": [
       "$\\displaystyle \\boxed{ T_y = 695.29 \\; K}$"
      ],
      "text/plain": [
       "<IPython.core.display.Math object>"
      ]
     },
     "metadata": {},
     "output_type": "display_data"
    }
   ],
   "source": [
    "Tx_Ttx = 0.525355\n",
    "Ty_Tx = 1.823030\n",
    "\n",
    "Tx = Tx_Ttx*Ttx\n",
    "Ty = Ty_Tx*Tx\n",
    "display(Math(r\"\\boxed{ T_y = %.2f \\; K}\" % Ty))"
   ]
  },
  {
   "cell_type": "markdown",
   "metadata": {},
   "source": [
    "#### c)"
   ]
  },
  {
   "cell_type": "markdown",
   "metadata": {},
   "source": [
    "Assume:\n",
    "\n",
    "$A_{th}$ = 0.25"
   ]
  },
  {
   "cell_type": "code",
   "execution_count": 29,
   "metadata": {},
   "outputs": [],
   "source": [
    "Ath = 0.25      # throat area (m^2)"
   ]
  },
  {
   "cell_type": "markdown",
   "metadata": {},
   "source": [
    "To find the mass flow rate, we can use the Mass Flow Parameter using the compressible flow code from project 0."
   ]
  },
  {
   "cell_type": "code",
   "execution_count": 30,
   "metadata": {},
   "outputs": [
    {
     "data": {
      "text/latex": [
       "$\\displaystyle \\boxed{ \\dot{m} = 36.84 \\; kg/s}$"
      ],
      "text/plain": [
       "<IPython.core.display.Math object>"
      ]
     },
     "metadata": {},
     "output_type": "display_data"
    }
   ],
   "source": [
    "MFP = compflow(1.0, y)[4]\n",
    "mdot = MFP*Ath*(Pt*1000)/np.sqrt(287*Ttth)\n",
    "display(Math(r\"\\boxed{ \\dot{m} = %.2f \\; kg/s}\" % mdot))"
   ]
  },
  {
   "cell_type": "markdown",
   "metadata": {},
   "source": [
    "### Question 6"
   ]
  },
  {
   "cell_type": "markdown",
   "metadata": {},
   "source": [
    "Set given/known values:"
   ]
  },
  {
   "cell_type": "code",
   "execution_count": 31,
   "metadata": {},
   "outputs": [],
   "source": [
    "mdot = 75.0         # exhaust nozzle mass flow rate (kg/s)\n",
    "P0 = 40.0           # freestream static pressure (kPa)\n",
    "Pt8 = 350.0         # nozzle throat total pressure (kPa)\n",
    "Tt8 = 1600.0        # nozzle throat total temperature (K)\n",
    "A9_A8 = 1.8         # nozzle exit to throat area ratio\n",
    "Pt9_Pt8 = 0.98      # nozzle exit to throat total pressure ratio\n",
    "CD = 0.98           # discharge coefficient\n",
    "R = 0.287           # gas constant (kJ/kg*K)\n",
    "y = 1.33            # specific heat ratio, hot"
   ]
  },
  {
   "cell_type": "markdown",
   "metadata": {},
   "source": [
    "Assumptions:\n",
    "\n",
    "Nozzle is axisymmetric and choked at the throat $\\left(P_{t8}/P_0 > PR_{crit}\\right)$"
   ]
  },
  {
   "cell_type": "markdown",
   "metadata": {},
   "source": [
    "Find:\n",
    "\n",
    "All dimensions including throat diameter ($D_8$), exit diameter ($D_9$), divergence angle ($\\alpha$), and length of divergent section ($L_s$).\n",
    "\n",
    "Also find $C_{fg}$, $F_g$, and $C_V$."
   ]
  },
  {
   "cell_type": "markdown",
   "metadata": {},
   "source": [
    "First, we can calculate the effective area of the throat and use this to determine the throat and exit diameters."
   ]
  },
  {
   "cell_type": "code",
   "execution_count": 32,
   "metadata": {},
   "outputs": [],
   "source": [
    "# grab the MFP at the throat using Project 0 code\n",
    "MFP8 = compflow(1.0, y)[4]/np.sqrt(R*1000)\n",
    "A8e = (mdot*np.sqrt(Tt8))/(Pt8*1000*MFP8)\n",
    "\n",
    "A8 = A8e/CD                     # actual throat area (m^2)\n",
    "D8 = np.sqrt(4*A8/np.pi)        # throat diameter (m)\n",
    "\n",
    "A9 = A8*(A9_A8)                 # actual nozzle exit area (m^2)\n",
    "D9 = np.sqrt(4*A9/np.pi)        # throat diameter (m)\n"
   ]
  },
  {
   "cell_type": "markdown",
   "metadata": {},
   "source": [
    "Now we solve the ideal and real nozzles to determine all of the necessary conditions to get $C_{fg}$, $F_g$, and $C_V$.\n",
    "\n",
    "Ideal:"
   ]
  },
  {
   "cell_type": "code",
   "execution_count": 33,
   "metadata": {},
   "outputs": [],
   "source": [
    "A_Astar_9i = A9/(CD*A8)     # sonic area ratio\n",
    "\n",
    "# get M9i and P9i/Pt9i using comp flow tables at A/A*\n",
    "M9i = 2.06\n",
    "P9i_Pt9i = 0.117766\n",
    "\n",
    "# since nozzle is isentropic, Pt9i = Pt8\n",
    "P9i = Pt8*P9i_Pt9i\n",
    "\n",
    "V9i = np.sqrt(R*1000.*Tt8)*np.sqrt(2*y/(y - 1)*(1 - (P9i/Pt8)**((y - 1)/y)))"
   ]
  },
  {
   "cell_type": "markdown",
   "metadata": {},
   "source": [
    "Real:"
   ]
  },
  {
   "cell_type": "code",
   "execution_count": 34,
   "metadata": {},
   "outputs": [],
   "source": [
    "A_Astar_9 = Pt9_Pt8*(A9/(CD*A8))     # sonic area ratio\n",
    "\n",
    "# get M9 and P9/Pt9 using comp flow tables at A/A*\n",
    "M9 = 2.03\n",
    "P9_Pt9 = 0.123592\n",
    "\n",
    "Pt9 = Pt8*Pt9_Pt8\n",
    "P9 = Pt9*P9_Pt9\n",
    "\n",
    "V9 = np.sqrt(R*1000.*Tt8)*np.sqrt(2*y/(y - 1)*(1 - (P9/Pt8)**((y - 1)/y)))"
   ]
  },
  {
   "cell_type": "markdown",
   "metadata": {},
   "source": [
    "Now we can calculate $C_V$, $C_{fg}$ and $F_g$:"
   ]
  },
  {
   "cell_type": "code",
   "execution_count": 35,
   "metadata": {},
   "outputs": [
    {
     "data": {
      "text/latex": [
       "$\\displaystyle \\boxed{ C_V = 0.995}$"
      ],
      "text/plain": [
       "<IPython.core.display.Math object>"
      ]
     },
     "metadata": {},
     "output_type": "display_data"
    },
    {
     "data": {
      "text/latex": [
       "$\\displaystyle \\boxed{ C_{fg} = 0.980}$"
      ],
      "text/plain": [
       "<IPython.core.display.Math object>"
      ]
     },
     "metadata": {},
     "output_type": "display_data"
    },
    {
     "data": {
      "text/latex": [
       "$\\displaystyle \\boxed{ F_g = 92136 \\: N}$"
      ],
      "text/plain": [
       "<IPython.core.display.Math object>"
      ]
     },
     "metadata": {},
     "output_type": "display_data"
    }
   ],
   "source": [
    "CV = V9/V9i\n",
    "Cfg = CD*CV*np.sqrt((1 - (P9i/Pt8)**((y - 1)/y))/(1 - (P0/Pt8)**((y - 1)/y)))*(1 + (y - 1)/(2*y)*(1 - P0/P9)/((Pt9/P9)**((y - 1)/y) - 1))\n",
    "Fg = mdot*V9 + (P9 - P0)*A9     # actual thrust\n",
    "\n",
    "display(Math(r\"\\boxed{ C_V = %.3f}\" % CV))\n",
    "display(Math(r\"\\boxed{ C_{fg} = %.3f}\" % Cfg))\n",
    "display(Math(r\"\\boxed{ F_g = %.0f \\: N}\" % Fg))"
   ]
  },
  {
   "cell_type": "markdown",
   "metadata": {},
   "source": [
    "Going back the dimensions, we can get convergence and divergence angles, $\\theta$ and $\\alpha$, using graphs from the text and calculate the length of the divergent section, $L_s$.\n",
    "\n",
    "From Figure 10.60b: $\\theta = 10\\degree$ \n",
    "\n",
    "From Figure 10.61: $\\alpha = 4\\degree$ "
   ]
  },
  {
   "cell_type": "code",
   "execution_count": 36,
   "metadata": {},
   "outputs": [
    {
     "data": {
      "text/latex": [
       "$\\displaystyle \\boxed{ D_8 = 0.53 \\: m}$"
      ],
      "text/plain": [
       "<IPython.core.display.Math object>"
      ]
     },
     "metadata": {},
     "output_type": "display_data"
    },
    {
     "data": {
      "text/latex": [
       "$\\displaystyle \\boxed{ D_9 = 0.71 \\: m}$"
      ],
      "text/plain": [
       "<IPython.core.display.Math object>"
      ]
     },
     "metadata": {},
     "output_type": "display_data"
    },
    {
     "data": {
      "text/latex": [
       "$\\displaystyle \\boxed{ \\theta = 10.0\\deg}$"
      ],
      "text/plain": [
       "<IPython.core.display.Math object>"
      ]
     },
     "metadata": {},
     "output_type": "display_data"
    },
    {
     "data": {
      "text/latex": [
       "$\\displaystyle \\boxed{ \\alpha = 4.0\\deg}$"
      ],
      "text/plain": [
       "<IPython.core.display.Math object>"
      ]
     },
     "metadata": {},
     "output_type": "display_data"
    },
    {
     "data": {
      "text/latex": [
       "$\\displaystyle \\boxed{ L_s = 1.29 \\; m}$"
      ],
      "text/plain": [
       "<IPython.core.display.Math object>"
      ]
     },
     "metadata": {},
     "output_type": "display_data"
    }
   ],
   "source": [
    "theta = 10.0\n",
    "a = 4.0\n",
    "Ls = ((D9/2) - (D8/2))/np.tan(np.deg2rad(a))\n",
    "\n",
    "display(Math(r\"\\boxed{ D_8 = %.2f \\: m}\" % D8))\n",
    "display(Math(r\"\\boxed{ D_9 = %.2f \\: m}\" % D9))\n",
    "display(Math(r\"\\boxed{ \\theta = %.1f\\deg}\" % theta))\n",
    "display(Math(r\"\\boxed{ \\alpha = %.1f\\deg}\" % a))\n",
    "display(Math(r\"\\boxed{ L_s = %.2f \\; m}\" % Ls))"
   ]
  }
 ],
 "metadata": {
  "kernelspec": {
   "display_name": "base",
   "language": "python",
   "name": "python3"
  },
  "language_info": {
   "codemirror_mode": {
    "name": "ipython",
    "version": 3
   },
   "file_extension": ".py",
   "mimetype": "text/x-python",
   "name": "python",
   "nbconvert_exporter": "python",
   "pygments_lexer": "ipython3",
   "version": "3.9.13"
  }
 },
 "nbformat": 4,
 "nbformat_minor": 2
}
