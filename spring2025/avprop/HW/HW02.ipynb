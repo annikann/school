{
 "cells": [
  {
   "cell_type": "markdown",
   "metadata": {},
   "source": [
    "# Annika Carlson\n",
    "## AEEM5042 - Module 2 Assignment"
   ]
  },
  {
   "cell_type": "code",
   "execution_count": 1,
   "metadata": {},
   "outputs": [],
   "source": [
    "import numpy as np\n",
    "import matplotlib.pyplot as plt\n",
    "from IPython.display import display, Markdown\n",
    "from scipy.optimize import fsolve"
   ]
  },
  {
   "cell_type": "markdown",
   "metadata": {},
   "source": [
    "### Question 1"
   ]
  },
  {
   "cell_type": "markdown",
   "metadata": {},
   "source": [
    "Set known/given values:"
   ]
  },
  {
   "cell_type": "code",
   "execution_count": 2,
   "metadata": {},
   "outputs": [],
   "source": [
    "mdot = 100.0    # air mass flow (kg/s)\n",
    "T1 = 1400.0     # inlet temp (K)\n",
    "P1 = 8.0        # inlet pressure (atm)\n",
    "M1 = 0.3        # inlet Mach number\n",
    "P2 = 1.0        # exit pressure (atm)\n",
    "\n",
    "y = 1.4         # specific heat ratio\n",
    "R = 287.0       # gas constant (J/kg*K)"
   ]
  },
  {
   "cell_type": "markdown",
   "metadata": {},
   "source": [
    "Assumptions:\n",
    "\n",
    "Isentropic, perfect gas, steady, no body forces, 1-D inviscid"
   ]
  },
  {
   "cell_type": "markdown",
   "metadata": {},
   "source": [
    "Find:\n",
    "\n",
    "a. exit temperature, $T_2$\n",
    "\n",
    "b. inlet area of the nozzle, $A_1$\n",
    "\n",
    "c. exit area of the nozzle, $A_2$"
   ]
  },
  {
   "cell_type": "markdown",
   "metadata": {},
   "source": [
    "#### a)"
   ]
  },
  {
   "cell_type": "code",
   "execution_count": 3,
   "metadata": {},
   "outputs": [
    {
     "data": {
      "text/markdown": [
       "$T_2$ = $772.86$ $K$"
      ],
      "text/plain": [
       "<IPython.core.display.Markdown object>"
      ]
     },
     "metadata": {},
     "output_type": "display_data"
    }
   ],
   "source": [
    "## Find T2 using isentropic relations\n",
    "\n",
    "T2 = T1*(P2/P1)**((y-1)/y)\n",
    "display(Markdown(f\"$T_2$ = ${T2:.2f}$ $K$\"))"
   ]
  },
  {
   "cell_type": "markdown",
   "metadata": {},
   "source": [
    "#### b)"
   ]
  },
  {
   "cell_type": "code",
   "execution_count": 4,
   "metadata": {},
   "outputs": [
    {
     "data": {
      "text/markdown": [
       "$A_1$ = $0.22$ $m^2$"
      ],
      "text/plain": [
       "<IPython.core.display.Markdown object>"
      ]
     },
     "metadata": {},
     "output_type": "display_data"
    }
   ],
   "source": [
    "## Determine A1 using continuity\n",
    "\n",
    "rho1 = (P1*101325)/(R*T1)        # ideal gas law     (N/m^2) / (N*m/kg*K)*(K)      --> kg/m^3\n",
    "V1 = M1*np.sqrt(y*R*T1)          # inlet velocity    sqrt[(kg*m^2/s^2*kg*K)*(K)]   --> m/s\n",
    "\n",
    "A1 = mdot/(rho1*V1)              # inlet area        (kg/s) / (kg/m^3)*(m/s)       --> m^2\n",
    "display(Markdown(f\"$A_1$ = ${A1:.2f}$ $m^2$\"))"
   ]
  },
  {
   "cell_type": "markdown",
   "metadata": {},
   "source": [
    "#### c)"
   ]
  },
  {
   "cell_type": "code",
   "execution_count": 5,
   "metadata": {},
   "outputs": [
    {
     "data": {
      "text/markdown": [
       "$P_o/P_2$ = $8.52$"
      ],
      "text/plain": [
       "<IPython.core.display.Markdown object>"
      ]
     },
     "metadata": {},
     "output_type": "display_data"
    }
   ],
   "source": [
    "## To find A2, determine if the nozzle is choked\n",
    "\n",
    "# Since the flow is isentropic, Po is constant\n",
    "Po = (P1*101325)*(1 + (((y-1)/2)*(M1**2)))**(y/(y-1))\n",
    "Prat = Po/(P2*101325)\n",
    "display(Markdown(f\"$P_o/P_2$ = ${Prat:.2f}$\"))"
   ]
  },
  {
   "cell_type": "markdown",
   "metadata": {},
   "source": [
    "Since the pressure ratio is much greater than the critical pressure ratio, $P_o/P = 1.894$, the flow is choked."
   ]
  },
  {
   "cell_type": "code",
   "execution_count": 6,
   "metadata": {},
   "outputs": [
    {
     "data": {
      "text/markdown": [
       "$A_2$ = $0.19$ $m^2$"
      ],
      "text/plain": [
       "<IPython.core.display.Markdown object>"
      ]
     },
     "metadata": {},
     "output_type": "display_data"
    }
   ],
   "source": [
    "## Now we can solve for A2 using sonic relations\n",
    "\n",
    "# Find A_star with area relation\n",
    "A1_Ast = (1/M1)*((2/(y+1))*(1 + (((y-1)/2)*(M1**2))))**((y + 1)/(2*(y - 1)))\n",
    "Ast = A1 / A1_Ast \n",
    "\n",
    "# Find M2\n",
    "# Since flow is isentropic, To is constant\n",
    "# To1 = To2 allows us to use isentropic relations to find M2 in terms of T1, T2 and M1\n",
    "\n",
    "M2 = np.sqrt(((T1/T2)*(1 + (((y-1)/2)*(M1**2))) - 1)*(2/(y - 1)))\n",
    "\n",
    "# Now use area relation in terms of M2 to find A2\n",
    "A2 = Ast*((1/M2)*((2/(y+1))*(1 + (((y-1)/2)*(M2**2))))**((y + 1)/(2*(y - 1))))\n",
    "display(Markdown(f\"$A_2$ = ${A2:.2f}$ $m^2$\"))"
   ]
  },
  {
   "cell_type": "markdown",
   "metadata": {},
   "source": [
    "### Question 2"
   ]
  },
  {
   "cell_type": "markdown",
   "metadata": {},
   "source": [
    "Set known/given values:"
   ]
  },
  {
   "cell_type": "code",
   "execution_count": 7,
   "metadata": {},
   "outputs": [],
   "source": [
    "T1 = -55.0 + 459.67      # inlet static temperature (degR)\n",
    "P1 = 4.0                 # inlet static pressure (psia)\n",
    "A1 = 1.5                 # inlet area (ft^2)\n",
    "M1 = 2.5                 # inlet Mach number\n",
    "M2 = 0.2                 # exit Mach number\n",
    "\n",
    "y = 1.4         # specific heat ratio\n",
    "R = 53.34       # gas constant (ft*lbf/lbm*R)\n",
    "gc = 32.174     # gravitational constant, ft*lbm/lbf*s^2"
   ]
  },
  {
   "cell_type": "markdown",
   "metadata": {},
   "source": [
    "Assumptions:\n",
    "\n",
    "Isentropic, perfect gas, steady, no body forces, 1-D inviscid"
   ]
  },
  {
   "cell_type": "markdown",
   "metadata": {},
   "source": [
    "Find:\n",
    "\n",
    "a. mass flow rate of the entering air, $\\dot{m}_1$\n",
    "\n",
    "b. pressure and temperature of the exiting air, $P_2$ and $T_2$ \n",
    "\n",
    "c. exit area of the diffuser, $A_2$\n",
    "\n",
    "using total properties and Mass Flow Parameter (MFP)"
   ]
  },
  {
   "cell_type": "markdown",
   "metadata": {},
   "source": [
    "#### a)"
   ]
  },
  {
   "cell_type": "code",
   "execution_count": 8,
   "metadata": {},
   "outputs": [
    {
     "data": {
      "text/markdown": [
       "$\\dot{m}_1$ = $98.67$ $lbm/s$"
      ],
      "text/plain": [
       "<IPython.core.display.Markdown object>"
      ]
     },
     "metadata": {},
     "output_type": "display_data"
    }
   ],
   "source": [
    "## Determine mdot1 using MFP\n",
    "\n",
    "#  First, calculate Po1 and To1 using isentropic relations with M1\n",
    "Po = P1*(1 + (((y - 1)/2)*(M1**2)))**(y/(y - 1))    # psia\n",
    "To = T1*(1 + (((y - 1)/2)*(M1**2)))                 # degR\n",
    "\n",
    "# Calculate MFP in terms of M1\n",
    "MFP1 = np.sqrt((y*gc)/R)*M1*((1 + (((y - 1)/2)*(M1**2)))**(-(y + 1)/(2*(y - 1))))\n",
    "\n",
    "mdot1 = ((A1*144)*Po*MFP1)/np.sqrt(To)\n",
    "display(Markdown(f\"$\\\\dot{{m}}_1$ = ${mdot1:.2f}$ $lbm/s$\"))"
   ]
  },
  {
   "cell_type": "markdown",
   "metadata": {},
   "source": [
    "#### b)"
   ]
  },
  {
   "cell_type": "code",
   "execution_count": 9,
   "metadata": {},
   "outputs": [
    {
     "data": {
      "text/markdown": [
       "$P_2$ = $66.46$ $psia$"
      ],
      "text/plain": [
       "<IPython.core.display.Markdown object>"
      ]
     },
     "metadata": {},
     "output_type": "display_data"
    },
    {
     "data": {
      "text/markdown": [
       "$T_2$ = $443.61$ $^\\circ F$"
      ],
      "text/plain": [
       "<IPython.core.display.Markdown object>"
      ]
     },
     "metadata": {},
     "output_type": "display_data"
    }
   ],
   "source": [
    "## Find P2 and T2 using isentropic relations\n",
    "\n",
    "# Since the flow is isentropic, total pressure and temperature is constant\n",
    "P2 = Po/((1 + (((y - 1)/2)*(M2**2)))**(y/(y - 1)))\n",
    "T2R = To/(1 + (((y - 1)/2)*(M2**2)))\n",
    "T2 = T2R - 459.67\n",
    "\n",
    "display(Markdown(f\"$P_2$ = ${P2:.2f}$ $psia$\"))\n",
    "display(Markdown(f\"$T_2$ = ${T2:.2f}$ $^\\circ F$\"))"
   ]
  },
  {
   "cell_type": "markdown",
   "metadata": {},
   "source": [
    "#### c)"
   ]
  },
  {
   "cell_type": "code",
   "execution_count": 10,
   "metadata": {},
   "outputs": [
    {
     "data": {
      "text/markdown": [
       "$A_2$ = $1.69$ $ft^2$"
      ],
      "text/plain": [
       "<IPython.core.display.Markdown object>"
      ]
     },
     "metadata": {},
     "output_type": "display_data"
    }
   ],
   "source": [
    "## To find A2, determine M2 and MFP2\n",
    "\n",
    "# Calculate M2 using isentropic relations\n",
    "M2 = np.sqrt(((Po/P2)**((y - 1)/y) - 1)*(2/(y - 1)))\n",
    "\n",
    "# Calculate MFP2 in terms of M2\n",
    "MFP2 = np.sqrt((y*gc)/R)*M2*((1 + (((y - 1)/2)*(M2**2)))**(-(y + 1)/(2*(y - 1))))\n",
    "\n",
    "# Assuming mass flow is constant, calculate A2\n",
    "mdot2 = mdot1\n",
    "A2 = ((mdot2*np.sqrt(To))/(Po*MFP2))/144\n",
    "display(Markdown(f\"$A_2$ = ${A2:.2f}$ $ft^2$\"))"
   ]
  },
  {
   "cell_type": "markdown",
   "metadata": {},
   "source": [
    "### Question 3"
   ]
  },
  {
   "cell_type": "markdown",
   "metadata": {},
   "source": [
    "Set known/given values:"
   ]
  },
  {
   "cell_type": "code",
   "execution_count": 11,
   "metadata": {},
   "outputs": [],
   "source": [
    "P1 = 20.0       # inlet static pressure (kPa)\n",
    "T1 = 260.0      # inlet static temperature (K)\n",
    "M1 = 3.0        # inlet Mach number "
   ]
  },
  {
   "cell_type": "markdown",
   "metadata": {},
   "source": [
    "Assumptions:\n",
    "\n",
    "Steady and 1-D, perfect gas, adiabatic across the shock, no work done on the flow, non-isentropic across the shock\n"
   ]
  },
  {
   "cell_type": "markdown",
   "metadata": {},
   "source": [
    "Find:\n",
    "\n",
    "a. Total temperature and total pressure upstream of the shock, $T_{o1}$ and $P_{o1}$\n",
    "\n",
    "b. Total temperature and total pressure downstream of the shock, $T_{o2}$ and $P_{o2}$\n",
    "\n",
    "c. Static temperature and static pressure downstream of the shock, $T_2$ and $P_2$"
   ]
  },
  {
   "cell_type": "markdown",
   "metadata": {},
   "source": [
    "#### a)"
   ]
  },
  {
   "cell_type": "code",
   "execution_count": 12,
   "metadata": {},
   "outputs": [
    {
     "data": {
      "text/markdown": [
       "$T_{o1}$ = $728.00$ $K$"
      ],
      "text/plain": [
       "<IPython.core.display.Markdown object>"
      ]
     },
     "metadata": {},
     "output_type": "display_data"
    },
    {
     "data": {
      "text/markdown": [
       "$P_{o1}$ = $734.65$ $kPa$"
      ],
      "text/plain": [
       "<IPython.core.display.Markdown object>"
      ]
     },
     "metadata": {},
     "output_type": "display_data"
    }
   ],
   "source": [
    "## Find total conditions before the shock using isentropic relations (valid locally upstream of the shock)\n",
    "\n",
    "To1 = T1*(1 + (((y - 1)/2)*(M1**2)))                   # K\n",
    "Po1 = P1*(1 + (((y - 1)/2)*(M1**2)))**(y/(y - 1))      # kPa\n",
    "\n",
    "display(Markdown(f\"$T_{{o1}}$ = ${To1:.2f}$ $K$\"))\n",
    "display(Markdown(f\"$P_{{o1}}$ = ${Po1:.2f}$ $kPa$\"))"
   ]
  },
  {
   "cell_type": "markdown",
   "metadata": {},
   "source": [
    "#### b)"
   ]
  },
  {
   "cell_type": "code",
   "execution_count": 13,
   "metadata": {},
   "outputs": [
    {
     "data": {
      "text/markdown": [
       "$T_{o2}$ = $728.00$ $K$"
      ],
      "text/plain": [
       "<IPython.core.display.Markdown object>"
      ]
     },
     "metadata": {},
     "output_type": "display_data"
    },
    {
     "data": {
      "text/markdown": [
       "$P_{o2}$ = $241.22$ $kPa$"
      ],
      "text/plain": [
       "<IPython.core.display.Markdown object>"
      ]
     },
     "metadata": {},
     "output_type": "display_data"
    }
   ],
   "source": [
    "## Find To2\n",
    "\n",
    "# Since flow is adiabatic across a normal shock,\n",
    "To2 = To1\n",
    "\n",
    "## Now use stagnation properties of normal shocks to find Po2\n",
    "# Calculate M2 \n",
    "M2 = np.sqrt((1 + (((y - 1)/2)*(M1**2)))/(y*M1**2 - (y-1)/2))\n",
    "\n",
    "# Calculate P2/P1\n",
    "P2_P1 = 1 + ((2*y)/(y + 1))*(M1**2 - 1)\n",
    "\n",
    "Po2 = Po1*(P2_P1)*((1 + (((y - 1)/2)*(M2**2)))/(1 + (((y - 1)/2)*(M1**2))))**(y/(y - 1))\n",
    "\n",
    "display(Markdown(f\"$T_{{o2}}$ = ${To2:.2f}$ $K$\"))\n",
    "display(Markdown(f\"$P_{{o2}}$ = ${Po2:.2f}$ $kPa$\"))"
   ]
  },
  {
   "cell_type": "markdown",
   "metadata": {},
   "source": [
    "#### c)"
   ]
  },
  {
   "cell_type": "code",
   "execution_count": 14,
   "metadata": {},
   "outputs": [
    {
     "data": {
      "text/markdown": [
       "$T_2$ = $696.54$ $K$"
      ],
      "text/plain": [
       "<IPython.core.display.Markdown object>"
      ]
     },
     "metadata": {},
     "output_type": "display_data"
    },
    {
     "data": {
      "text/markdown": [
       "$P_2$ = $206.67$ $kPa$"
      ],
      "text/plain": [
       "<IPython.core.display.Markdown object>"
      ]
     },
     "metadata": {},
     "output_type": "display_data"
    }
   ],
   "source": [
    "## Find static T2 using isentropic relations (valid locally downstream of the shock)\n",
    "T2 = To2/(1 + (((y - 1)/2)*(M2**2)))        # K\n",
    "\n",
    "## Use P2/P1 to find P2\n",
    "P2 = P1*(P2_P1)     # kpa\n",
    "\n",
    "display(Markdown(f\"$T_2$ = ${T2:.2f}$ $K$\"))\n",
    "display(Markdown(f\"$P_2$ = ${P2:.2f}$ $kPa$\"))"
   ]
  },
  {
   "cell_type": "markdown",
   "metadata": {},
   "source": [
    "### Question 4 (Bonus)"
   ]
  },
  {
   "cell_type": "markdown",
   "metadata": {},
   "source": [
    "Set known/given values:"
   ]
  },
  {
   "cell_type": "code",
   "execution_count": 15,
   "metadata": {},
   "outputs": [],
   "source": [
    "M1 = 0.3        # inlet Mach number\n",
    "Po1 = 600.0     # inlet total pressure (kPa)\n",
    "To1 = 500.0     # inlet total temperature (K)\n",
    "qdot = 500.0    # heat addition (kJ/kg)"
   ]
  },
  {
   "cell_type": "markdown",
   "metadata": {},
   "source": [
    "Assumptions:\n",
    "\n",
    "Perfect gas, steady, 1-D, inviscid flow"
   ]
  },
  {
   "cell_type": "markdown",
   "metadata": {},
   "source": [
    "Find:\n",
    "\n",
    "Mach number ($M_2$), total pressure ($P_{o2}$), and total temperature ($T_{o2}$) after the heat interaction for\n",
    "\n",
    "a. $\\gamma$ = 1.4 and $c_p$ = 1.004 $\\frac{kJ}{kg*K}$\n",
    "\n",
    "b. $\\gamma$ = 1.325 and $c_p$ = 1.171 $\\frac{kJ}{kg*K}$"
   ]
  },
  {
   "cell_type": "markdown",
   "metadata": {},
   "source": [
    "#### a)"
   ]
  },
  {
   "cell_type": "code",
   "execution_count": 16,
   "metadata": {},
   "outputs": [
    {
     "data": {
      "text/markdown": [
       "$T_{o2}$ = $998.01$ $K$"
      ],
      "text/plain": [
       "<IPython.core.display.Markdown object>"
      ]
     },
     "metadata": {},
     "output_type": "display_data"
    }
   ],
   "source": [
    "y = 1.4\n",
    "cp = 1.004\n",
    "\n",
    "## Calculte To2 from definition of heat addition\n",
    "To2 = To1 + (qdot/cp)   # K\n",
    "display(Markdown(f\"$T_{{o2}}$ = ${To2:.2f}$ $K$\"))"
   ]
  },
  {
   "cell_type": "code",
   "execution_count": 17,
   "metadata": {},
   "outputs": [
    {
     "data": {
      "text/markdown": [
       "$T_{o1}/T_{o*}$ = $0.35$"
      ],
      "text/plain": [
       "<IPython.core.display.Markdown object>"
      ]
     },
     "metadata": {},
     "output_type": "display_data"
    },
    {
     "data": {
      "text/markdown": [
       "$T_{o2}/T_{o*}$ = $0.69$"
      ],
      "text/plain": [
       "<IPython.core.display.Markdown object>"
      ]
     },
     "metadata": {},
     "output_type": "display_data"
    }
   ],
   "source": [
    "## Solve for M2 from Rayleigh flow tables for y = 1.4\n",
    "\n",
    "# Calculate sonic reference condition To_Tostar\n",
    "To1_Tostar = (((y + 1)*(M1**2))/((1 + y*(M1**2))**2))*(2 + (y - 1)*(M1**2))\n",
    "display(Markdown(f\"$T_{{o1}}/T_{{o*}}$ = ${To1_Tostar:.2f}$\"))\n",
    "\n",
    "To2_Tostar = (To1_Tostar)*(To2/To1)\n",
    "display(Markdown(f\"$T_{{o2}}/T_{{o*}}$ = ${To2_Tostar:.2f}$\"))"
   ]
  },
  {
   "cell_type": "code",
   "execution_count": 18,
   "metadata": {},
   "outputs": [
    {
     "data": {
      "text/markdown": [
       "$M_2$ = $0.50$"
      ],
      "text/plain": [
       "<IPython.core.display.Markdown object>"
      ]
     },
     "metadata": {},
     "output_type": "display_data"
    }
   ],
   "source": [
    "# From tables at To2_Tostar = 0.69:\n",
    "M2 = 0.50\n",
    "Po2_Postar = 1.1141\n",
    "\n",
    "display(Markdown(f\"$M_2$ = ${M2:.2f}$\"))"
   ]
  },
  {
   "cell_type": "code",
   "execution_count": 19,
   "metadata": {},
   "outputs": [
    {
     "data": {
      "text/markdown": [
       "$P_{o2}$ = $557.75$ $kPa$"
      ],
      "text/plain": [
       "<IPython.core.display.Markdown object>"
      ]
     },
     "metadata": {},
     "output_type": "display_data"
    }
   ],
   "source": [
    "## Solve for Po2\n",
    "\n",
    "# from M = 0.3\n",
    "Po1_Postar = 1.1985\n",
    "\n",
    "Po2 = Po2_Postar*(1/Po1_Postar)*Po1\n",
    "display(Markdown(f\"$P_{{o2}}$ = ${Po2:.2f}$ $kPa$\"))"
   ]
  },
  {
   "cell_type": "markdown",
   "metadata": {},
   "source": [
    "#### b)"
   ]
  },
  {
   "cell_type": "code",
   "execution_count": 20,
   "metadata": {},
   "outputs": [
    {
     "data": {
      "text/markdown": [
       "$T_{o2}$ = $926.99$ $K$"
      ],
      "text/plain": [
       "<IPython.core.display.Markdown object>"
      ]
     },
     "metadata": {},
     "output_type": "display_data"
    }
   ],
   "source": [
    "y = 1.325\n",
    "cp = 1.171\n",
    "\n",
    "## Calculte To2 from definition of heat addition\n",
    "To2 = To1 + (qdot/cp)   # K\n",
    "display(Markdown(f\"$T_{{o2}}$ = ${To2:.2f}$ $K$\"))"
   ]
  },
  {
   "cell_type": "code",
   "execution_count": 21,
   "metadata": {},
   "outputs": [
    {
     "data": {
      "text/markdown": [
       "$T_{o1}/T_{o*}$ = $0.34$"
      ],
      "text/plain": [
       "<IPython.core.display.Markdown object>"
      ]
     },
     "metadata": {},
     "output_type": "display_data"
    },
    {
     "data": {
      "text/markdown": [
       "$T_{o2}/T_{o*}$ = $0.63$"
      ],
      "text/plain": [
       "<IPython.core.display.Markdown object>"
      ]
     },
     "metadata": {},
     "output_type": "display_data"
    }
   ],
   "source": [
    "## Solve for M2 from Rayleigh flow tables for y = 1.325\n",
    "\n",
    "# Calculate sonic reference condition To_Tostar\n",
    "To1_Tostar = (((y + 1)*(M1**2))/((1 + y*(M1**2))**2))*(2 + (y - 1)*(M1**2))\n",
    "display(Markdown(f\"$T_{{o1}}/T_{{o*}}$ = ${To1_Tostar:.2f}$\"))\n",
    "\n",
    "To2_Tostar = (To1_Tostar)*(To2/To1)\n",
    "display(Markdown(f\"$T_{{o2}}/T_{{o*}}$ = ${To2_Tostar:.2f}$\"))"
   ]
  },
  {
   "cell_type": "code",
   "execution_count": 22,
   "metadata": {},
   "outputs": [
    {
     "data": {
      "text/markdown": [
       "$M_2$ = $0.47$"
      ],
      "text/plain": [
       "<IPython.core.display.Markdown object>"
      ]
     },
     "metadata": {},
     "output_type": "display_data"
    }
   ],
   "source": [
    "# From tables at To2_Tostar = 0.63:\n",
    "M2 = 0.47\n",
    "Po2_Postar = 1.126\n",
    "\n",
    "display(Markdown(f\"$M_2$ = ${M2:.2f}$\"))"
   ]
  },
  {
   "cell_type": "code",
   "execution_count": 23,
   "metadata": {},
   "outputs": [
    {
     "data": {
      "text/markdown": [
       "$P_{o2}$ = $563.70$ $kPa$"
      ],
      "text/plain": [
       "<IPython.core.display.Markdown object>"
      ]
     },
     "metadata": {},
     "output_type": "display_data"
    }
   ],
   "source": [
    "## Solve for Po2\n",
    "\n",
    "# from M = 0.3\n",
    "Po1_Postar = 1.1985\n",
    "\n",
    "Po2 = Po2_Postar*(1/Po1_Postar)*Po1\n",
    "display(Markdown(f\"$P_{{o2}}$ = ${Po2:.2f}$ $kPa$\"))"
   ]
  },
  {
   "cell_type": "markdown",
   "metadata": {},
   "source": [
    "### Question 5 (Bonus)"
   ]
  },
  {
   "cell_type": "markdown",
   "metadata": {},
   "source": [
    "Set known/given values:"
   ]
  },
  {
   "cell_type": "code",
   "execution_count": 24,
   "metadata": {},
   "outputs": [],
   "source": [
    "M1 = 0.6        # inlet Mach number\n",
    "P1 = 10.0       # inlet static pressure (psia)\n",
    "T1 = 500.0      # inlet static temperature (degR)\n",
    "L = 8.0         # duct length (ft)\n",
    "h = 1.0         # duct height (ft)\n",
    "cf = 0.004      # coefficient of friction\n",
    "y = 1.4"
   ]
  },
  {
   "cell_type": "markdown",
   "metadata": {},
   "source": [
    "Assumptions:\n",
    "\n",
    "Steady, 1-D, adiabatic, gamma = 1.4"
   ]
  },
  {
   "cell_type": "markdown",
   "metadata": {},
   "source": [
    "Find:\n",
    "\n",
    "Mach number (M2), static pressure ($P_2$), static temperature ($T_2$), and total pressure ratio ($P_{{o2}}/P_{{o1}}$)"
   ]
  },
  {
   "cell_type": "code",
   "execution_count": 25,
   "metadata": {},
   "outputs": [
    {
     "data": {
      "text/markdown": [
       "$M_{2}$ = $0.64$"
      ],
      "text/plain": [
       "<IPython.core.display.Markdown object>"
      ]
     },
     "metadata": {},
     "output_type": "display_data"
    }
   ],
   "source": [
    "# Since the duct is a square, calculate hydraulic diameter (D) from h\n",
    "D = 4*(h**2)/(4*h)      # D = h = 1.0ft\n",
    "\n",
    "## Solve for M2\n",
    "\n",
    "L_Dterm = (4*cf*L)/D\n",
    "Lstar_Dterm1 = ((1 - M1**2)/(y*(M1**2))) + ((y + 1)/(2*y))*np.log(((y + 1)*M1**2)/(2 + (y - 1)*M1**2))\n",
    "Lstar_Dterm2 = Lstar_Dterm1 - L_Dterm\n",
    "\n",
    "def equation(M2, Lstar_Dterm2, y):\n",
    "    return ((1 - M2**2)/(y*(M2**2))) + ((y + 1)/(2*y))*np.log(((y + 1)*M2**2)/(2 + (y - 1)*M2**2)) - Lstar_Dterm2\n",
    "\n",
    "M2_initial_guess = 0.5  \n",
    "\n",
    "# Solve for M2\n",
    "M2_solution = fsolve(equation, M2_initial_guess, args=(Lstar_Dterm2, y))\n",
    "M2 = M2_solution[0]\n",
    "\n",
    "display(Markdown(f\"$M_{{2}}$ = ${M2:.2f}$\"))"
   ]
  },
  {
   "cell_type": "code",
   "execution_count": 26,
   "metadata": {},
   "outputs": [
    {
     "data": {
      "text/markdown": [
       "$P_{2}$ = $9.34$ $psia$"
      ],
      "text/plain": [
       "<IPython.core.display.Markdown object>"
      ]
     },
     "metadata": {},
     "output_type": "display_data"
    }
   ],
   "source": [
    "# From Fanno flow tables for M1 = 0.6 and M2 = 0.64:\n",
    "P1_Pstar = 1.763\n",
    "P2_Pstar = 1.646\n",
    "Po1_Postar = 1.188\n",
    "Po2_Postar = 1.145\n",
    "T1_Tstar = 1.119\n",
    "T2_Tstar = 1.109\n",
    "\n",
    "## Calculate P2\n",
    "P2 = P2_Pstar*(1/P1_Pstar)*P1\n",
    "display(Markdown(f\"$P_{{2}}$ = ${P2:.2f}$ $psia$\"))"
   ]
  },
  {
   "cell_type": "code",
   "execution_count": 27,
   "metadata": {},
   "outputs": [
    {
     "data": {
      "text/markdown": [
       "$T_{2}$ = $495.53$ $^\\circ R$"
      ],
      "text/plain": [
       "<IPython.core.display.Markdown object>"
      ]
     },
     "metadata": {},
     "output_type": "display_data"
    }
   ],
   "source": [
    "## Calculate T2\n",
    "T2 = T2_Tstar*(1/T1_Tstar)*T1\n",
    "display(Markdown(f\"$T_{{2}}$ = ${T2:.2f}$ $^\\circ R$\"))"
   ]
  },
  {
   "cell_type": "code",
   "execution_count": 28,
   "metadata": {},
   "outputs": [
    {
     "data": {
      "text/markdown": [
       "$P_{o2}/P_{o1}$ = $0.96$"
      ],
      "text/plain": [
       "<IPython.core.display.Markdown object>"
      ]
     },
     "metadata": {},
     "output_type": "display_data"
    }
   ],
   "source": [
    "## Calculate Po2/Po1\n",
    "Po2_Po1 = (Po2_Postar)/(Po1_Postar)\n",
    "display(Markdown(f\"$P_{{o2}}/P_{{o1}}$ = ${Po2_Po1:.2f}$\"))"
   ]
  }
 ],
 "metadata": {
  "kernelspec": {
   "display_name": "base",
   "language": "python",
   "name": "python3"
  },
  "language_info": {
   "codemirror_mode": {
    "name": "ipython",
    "version": 3
   },
   "file_extension": ".py",
   "mimetype": "text/x-python",
   "name": "python",
   "nbconvert_exporter": "python",
   "pygments_lexer": "ipython3",
   "version": "3.9.13"
  }
 },
 "nbformat": 4,
 "nbformat_minor": 2
}
